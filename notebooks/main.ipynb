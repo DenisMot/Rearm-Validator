{
 "cells": [
  {
   "cell_type": "markdown",
   "metadata": {},
   "source": [
    "# Set the paths "
   ]
  },
  {
   "cell_type": "code",
   "execution_count": null,
   "metadata": {},
   "outputs": [],
   "source": [
    "import os\n",
    "\n",
    "projectPath = os.path.abspath(\"..\")\n",
    "dat_path = os.path.join(projectPath, \"dat\")\n",
    "res_path = os.path.join(projectPath, \"res\")\n",
    "rearm_path = os.path.join(dat_path, \"ReArm.lnk\")"
   ]
  },
  {
   "cell_type": "code",
   "execution_count": null,
   "metadata": {},
   "outputs": [],
   "source": [
    "\n",
    "# set the flag to NOT run the tests\n",
    "doRunTests = False\n",
    "\n",
    "# run the outside notebooks (to get the functions)\n",
    "%run -i \"checkFilesInVisit.ipynb\"\n",
    "%run -i \"kinect-to-mouse-time-correction.ipynb\"\n",
    "%run -i \"checkFileDate.ipynb\"\n",
    "\n",
    "\n",
    "# set the visits to check\n",
    "visits = [\n",
    "    \"ReArm_C1P02\",\n",
    "    \"ReArm_C1P023\",\n",
    "]\n",
    "\n",
    "# check the files in the visit\n",
    "for visit in visits:\n",
    "    print(\"###############################################\")\n",
    "    print(\"Checking visit: \", visit)\n",
    "\n",
    "    visit_path = os.path.join(rearm_path, visit)\n",
    "    if not os.path.isdir(visit_path):\n",
    "        print(\"ERROR: pathToData is not a directory: \", visit_path)\n",
    "    else:\n",
    "        CheckFilesInRearmVisit(visit_path)\n",
    "        check_all_files_date(visit_path)\n",
    "        kinectToMouseTimeCorrection(visit_path)\n",
    "\n"
   ]
  },
  {
   "cell_type": "code",
   "execution_count": null,
   "metadata": {},
   "outputs": [],
   "source": [
    "# save the notebook from a cell\n",
    "\n",
    "\n",
    "# TODO: find a way to save the notebook from a cell (not easy in VSCode \n",
    "# NOTE: the magic %%capture does the job, but you loose the output in the notebook... "
   ]
  },
  {
   "cell_type": "code",
   "execution_count": null,
   "metadata": {},
   "outputs": [],
   "source": [
    "\n",
    "\n",
    "# then run in the terminal (or call nbconvert API)\n",
    "# jupyter nbconvert --no-input --to asciidoc main.ipynb\n",
    "\n",
    "# %sx jupyter nbconvert --no-input --to asciidoc main.ipynb\n"
   ]
  }
 ],
 "metadata": {
  "language_info": {
   "name": "python"
  }
 },
 "nbformat": 4,
 "nbformat_minor": 2
}
