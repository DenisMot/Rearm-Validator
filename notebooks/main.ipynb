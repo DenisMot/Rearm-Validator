{
 "cells": [
  {
   "cell_type": "code",
   "execution_count": null,
   "metadata": {},
   "outputs": [],
   "source": [
    "# set the flag to NOT run the tests\n",
    "doRunTests = False\n",
    "# run the outside notebook (to get the functions)\n",
    "%run -i \"checkFilesInVisit.ipynb\"\n",
    "\n",
    "\n",
    "visits = [\n",
    "    \"/Users/denismottet/Documents/GitHub/Rearm-CheckFiles/dat/ReArm.lnk/ReArm_C1P022\", \n",
    "    \"/Users/denismottet/Documents/GitHub/Rearm-CheckFiles/dat/ReArm.lnk/ReArm_C1P023\",\n",
    "]\n",
    "\n",
    "# check the files in the visit\n",
    "for pathToData in visits:\n",
    "    if not os.path.isdir(pathToData):\n",
    "        print(\"ERROR: pathToData is not a directory: \", pathToData)\n",
    "        continue\n",
    "    print(\"Checking visit: \", pathToData)\n",
    "    vistToCheck = CheckFilesInRearmVisit(pathToData)\n",
    "    vistToCheck.checkFilesByVisit()\n",
    "    vistToCheck.printProblems()\n",
    "    # vistToCheck.printGoodFiles()\n",
    "    vistToCheck.saveCheckResults()"
   ]
  }
 ],
 "metadata": {
  "language_info": {
   "name": "python"
  }
 },
 "nbformat": 4,
 "nbformat_minor": 2
}
