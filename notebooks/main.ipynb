{
 "cells": [
  {
   "cell_type": "markdown",
   "metadata": {},
   "source": [
    "\n",
    "The purpose of this notebook is to verify the presence of the expected data files for the ReArm clinical trial. \n",
    "\n",
    "The `Rearm` directory contains the experimental files, organized by visit (e.g., `ReArm_C1P02`), with a subdirectory for each type of information (e.g., `Accelerometry`):\n",
    "\n",
    "    ...\n",
    "    └── ReArm \n",
    "        ├── ReArm_C1P02\n",
    "        │   ├── Accelerometry\n",
    "        │   ├── Armeo\n",
    "        │   ├── Circle\n",
    "        │   ├── Reaching\n",
    "        │   └── Scan\n",
    "        ├── ...\n",
    "        ...\n",
    "\n",
    "\n",
    "# Usage\n",
    "\n",
    "1. Run the notebook.\n",
    "2. Check the output at the end of this notebook. \n",
    "3. Optional: manually copy the output and save it to a file for further reference.\n",
    "\n",
    "\n",
    "\n"
   ]
  },
  {
   "cell_type": "markdown",
   "metadata": {},
   "source": [
    "# Code description\n",
    "## Set the paths"
   ]
  },
  {
   "cell_type": "code",
   "execution_count": null,
   "metadata": {},
   "outputs": [],
   "source": [
    "import os\n",
    "\n",
    "projectPath = os.path.abspath(\"..\")\n",
    "dat_path = os.path.join(projectPath, \"dat\")\n",
    "res_path = os.path.join(projectPath, \"res\")\n",
    "#rearm_path = os.path.join(dat_path, \"ReArm.lnk\")\n",
    "\n"
   ]
  },
  {
   "cell_type": "code",
   "execution_count": null,
   "metadata": {},
   "outputs": [],
   "source": [
    "# If 'rearm_path' is not in the global scope (outside of any function),\n",
    "# then ask the user to select the ReArm folder\n",
    "if 'rearm_path' not in globals():\n",
    "\n",
    "    import tkinter as tk\n",
    "    from tkinter import filedialog\n",
    "\n",
    "    root = tk.Tk()\n",
    "    root.withdraw()\n",
    "\n",
    "    rearm_path = filedialog.askdirectory(initialdir=dat_path, title=\"Select the ReArm folder:\")\n",
    "\n",
    "    if rearm_path == \"\":\n",
    "        print(\"No folder selected, exiting...\")\n",
    "        exit()\n",
    "\n",
    "    if not os.path.exists(rearm_path):\n",
    "        print(\"Invalid folder selected, exiting...\")\n",
    "        exit()"
   ]
  },
  {
   "cell_type": "markdown",
   "metadata": {},
   "source": [
    "## Run all the tests"
   ]
  },
  {
   "cell_type": "markdown",
   "metadata": {},
   "source": [
    "### set the globals"
   ]
  },
  {
   "cell_type": "code",
   "execution_count": null,
   "metadata": {},
   "outputs": [],
   "source": [
    "# set the flag to NOT run the tests\n",
    "doRunTests = False\n",
    "\n",
    "# run the outside notebooks (to get the functions)\n",
    "%run -i \"checkFilesInVisit.ipynb\"\n",
    "%run -i \"kinect-to-mouse-time-correction.ipynb\"\n",
    "%run -i \"checkFileDate.ipynb\"\n"
   ]
  },
  {
   "cell_type": "markdown",
   "metadata": {},
   "source": [
    "### Set the visits to check"
   ]
  },
  {
   "cell_type": "code",
   "execution_count": null,
   "metadata": {},
   "outputs": [],
   "source": [
    "# visits are stored in directories in the ReArm folder\n",
    "visits = [d for d in os.listdir(rearm_path) if os.path.isdir(os.path.join(rearm_path, d))]\n",
    "\n",
    "# OPTIONAL: set the visits to check (for fast testing)\n",
    "# visits = [\n",
    "#     \"ReArm_C1P02\",\n",
    "#     \"ReArm_C1P023\",\n",
    "# ]"
   ]
  },
  {
   "cell_type": "markdown",
   "metadata": {},
   "source": [
    "### Run the tests on the visits in the Rearm directory"
   ]
  },
  {
   "cell_type": "code",
   "execution_count": null,
   "metadata": {},
   "outputs": [],
   "source": [
    "def alreadyCheckedFilesInRearmVisit(visitPath):\n",
    "        \"\"\"\n",
    "        Check if the log file already exists, which means that the visit was already checked\n",
    "        \"\"\"\n",
    "        checkLogFullFname = os.path.join(visitPath, 'checkFilesInRearmVisit.log')\n",
    "        if os.path.isfile(checkLogFullFname):\n",
    "            print(f\"Already checked visit\")\n",
    "            return True\n",
    "        return False\n",
    "\n",
    "print(\"Selected ReArm folder: \" + rearm_path)\n",
    "\n",
    "# check the files in the visit\n",
    "for visit in visits:\n",
    "    print(\"###############################################\")\n",
    "    print(\"Checking visit: \", visit)\n",
    "\n",
    "    visit_path = os.path.join(rearm_path, visit)\n",
    "    if not os.path.isdir(visit_path):\n",
    "        print(\"ERROR: pathToData is not a directory: \", visit_path)\n",
    "    else:\n",
    "        if not alreadyCheckedFilesInRearmVisit(visit_path):\n",
    "            CheckFilesInRearmVisit(visit_path)\n",
    "            check_all_files_date(visit_path)\n",
    "            kinectToMouseTimeCorrection(visit_path)\n",
    "\n"
   ]
  }
 ],
 "metadata": {
  "language_info": {
   "name": "python"
  }
 },
 "nbformat": 4,
 "nbformat_minor": 2
}
