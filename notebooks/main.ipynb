{
 "cells": [
  {
   "cell_type": "markdown",
   "metadata": {},
   "source": [
    "\n",
    "The purpose of this notebook is to verify the presence of the expected data files for the ReArm clinical trial. \n",
    "\n",
    "The `Rearm` directory contains the experimental files, organized by patient (e.g., `ReArm_C1P02`), then by visit (e.g., `ReArm_C1P02_20210306_V1`), then by type of information (e.g., `Accelerometry`):\n",
    "\n",
    "\n",
    "    ...\n",
    "    └── ReArm \n",
    "        ├── ReArm_C1P02\n",
    "        │   ├── ReArm_C1P02_20210306_V1          # first visit of participant 02\n",
    "        │   │   ├── ReArm_C1P02_20210306_V1_Accelerometry\n",
    "        │   │   ├── ReArm_C1P02_20210306_V1_Armeo\n",
    "        │   │   ├── ReArm_C1P02_20210306_V1_Circle\n",
    "        │   │   ├── ReArm_C1P02_20210306_V1_Reaching\n",
    "        │   ├   └── ...\n",
    "        │   ├── ReArm_C1P02_20210419_V2\n",
    "        │   ├── ...\n",
    "        ├── ...\n",
    "        ...\n",
    "\n",
    "# Usage\n",
    "\n",
    "1. Run the notebook.\n",
    "2. Check the output at the end of this notebook. \n",
    "3. Optional: manually copy the output and save it to a file for further reference.\n",
    "\n",
    "# Requirements\n",
    "- The ReArm dataset\n",
    "- Python 3.9 or later\n",
    "- Required packages: `numpy`, `matplotlib`, `pyxdf`, `openmovement`. You can install them by running conda commands below:\n",
    "```bash\n",
    "conda create -n Rearm               # Create a new environment\n",
    "conda activate Rearm                # Activate the environment\n",
    "conda install numpy matplotlib      # Install numpy and matplotlib\n",
    "conda install conda-forge::pyxdf    # Install pyxdf from conda-forge (https://anaconda.org/conda-forge/pyxdf)\n",
    "pip install openmovement            # Install openmovement using pip (https://github.com/digitalinteraction/openmovement-python)\n",
    "```\n",
    "\n",
    "\n",
    "\n",
    "\n",
    "\n"
   ]
  },
  {
   "cell_type": "markdown",
   "metadata": {},
   "source": [
    "# Outputs\n",
    "\n",
    "The output of this notebook consists in `.log` and `.tsv` files stored in the checked visit directory. The files are:\n",
    "\n",
    "    ...\n",
    "    └── ReArm \n",
    "        ├── ReArm_C1P02\n",
    "        │   ├── ReArm_C1P02_20210306_V1         \n",
    "        │   │   ├── checkFilesInRearmVisit.log   # log file with the summary of checks\n",
    "        │   │   ├── goodfiles.log                # log file with the expected files that were found\n",
    "        │   │   ├── kinect_to_mouse_delay.tsv    # log file with delay between kinect and mouse in the .xdf files\n",
    "        │   │   ├── ReArm_C1P02_20210306_V1_Accelerometry\n",
    "        │   │   ├── ReArm_C1P02_20210306_V1_Armeo\n",
    "        │   │   ├── ReArm_C1P02_20210306_V1_Circle\n",
    "        │   │   ├── ReArm_C1P02_20210306_V1_Reaching\n",
    "        │   │   └── ...\n",
    "        │   ├── ...\n",
    "        ├── ...\n",
    "        ...\n",
    "\n"
   ]
  },
  {
   "cell_type": "markdown",
   "metadata": {},
   "source": [
    "# Code description\n",
    "## Set the paths"
   ]
  },
  {
   "cell_type": "code",
   "execution_count": null,
   "metadata": {},
   "outputs": [],
   "source": [
    "import os\n",
    "\n",
    "projectPath = os.path.abspath(\"..\")\n",
    "dat_path = os.path.join(projectPath, \"dat\")\n",
    "res_path = os.path.join(projectPath, \"res\")\n",
    "# rearm_path = os.path.join(dat_path, \"ReArm.lnk\")"
   ]
  },
  {
   "cell_type": "code",
   "execution_count": null,
   "metadata": {},
   "outputs": [],
   "source": [
    "import os\n",
    "import tkinter as tk\n",
    "from tkinter import filedialog, messagebox\n",
    "\n",
    "\n",
    "# Custom exception to stop Jupyter Notebook execution\n",
    "class StopExecution(Exception):\n",
    "    pass\n",
    "\n",
    "\n",
    "# If 'rearm_path' is not in the global scope (outside of any function)\n",
    "if \"rearm_path\" not in globals():\n",
    "    files = os.listdir(dat_path)\n",
    "    if \"ReArm.lnk\" in files:\n",
    "        rearm_path = os.path.join(dat_path, \"ReArm.lnk\")\n",
    "        # Verify that the symlink points to a valid folder\n",
    "        if os.path.exists(rearm_path):\n",
    "            rearm_path = os.readlink(rearm_path)\n",
    "    else:\n",
    "        # Ask for user input if ReArm.lnk is not found\n",
    "        print(\"ReArm.lnk not found in dat folder...\")\n",
    "        # Ask the user to select the ReArm folder\n",
    "        root = tk.Tk()\n",
    "        root.withdraw()\n",
    "        rearm_path = filedialog.askdirectory(\n",
    "            initialdir=dat_path, title=\"Select the ReArm folder:\"\n",
    "        )\n",
    "\n",
    "    print(rearm_path)"
   ]
  },
  {
   "cell_type": "markdown",
   "metadata": {},
   "source": [
    "## Run all the tests"
   ]
  },
  {
   "cell_type": "markdown",
   "metadata": {},
   "source": [
    "### set the globals"
   ]
  },
  {
   "cell_type": "code",
   "execution_count": null,
   "metadata": {},
   "outputs": [],
   "source": [
    "# set the flag to NOT run the tests\n",
    "doRunTests = False\n",
    "\n",
    "# run the outside notebooks (to get the functions)\n",
    "%run -i \"checkFilesInVisit.ipynb\"\n",
    "%run -i \"kinect-to-mouse-time-correction.ipynb\"\n",
    "%run -i \"checkFileContent.ipynb\"\n",
    "%run -i \"renameFilesInVisit.ipynb\"\n"
   ]
  },
  {
   "cell_type": "markdown",
   "metadata": {},
   "source": [
    "### Get the participants list "
   ]
  },
  {
   "cell_type": "code",
   "execution_count": null,
   "metadata": {},
   "outputs": [],
   "source": [
    "import pandas as pd\n",
    "\n",
    "participants_fullname = os.path.join(rearm_path, \"participants.tsv\")\n",
    "participants_db = pd.read_csv(participants_fullname, sep=\"\\t\")\n",
    "\n",
    "# # show the participants_db\n",
    "participants_db.head()"
   ]
  },
  {
   "cell_type": "code",
   "execution_count": null,
   "metadata": {},
   "outputs": [],
   "source": [
    "# ensure that the first column name is 'participant_id'\n",
    "if participants_db.columns[0] != \"participant_id\":\n",
    "    print(\"The first column name MUST BE 'participant_id' in the participants.tsv file\")\n",
    "    raise StopExecution\n",
    "\n",
    "# get the columns names into a list\n",
    "# participants_columns = participants_db.columns.tolist()\n",
    "\n",
    "# get the participants list and paths\n",
    "participants_list = participants_db[\"participant_id\"].tolist()\n",
    "participants_relpath_list = [(\"ReArm_\" + p) for p in participants_list]\n",
    "participants_abspath_list = [\n",
    "    os.path.join(rearm_path, p) for p in participants_relpath_list\n",
    "]\n",
    "\n",
    "# print the directories one by one\n",
    "for a, r in zip(participants_abspath_list, participants_relpath_list):\n",
    "    print(r, \" : \", a)"
   ]
  },
  {
   "cell_type": "markdown",
   "metadata": {},
   "source": [
    "### Run the tests on the Rearm directory\n"
   ]
  },
  {
   "cell_type": "code",
   "execution_count": null,
   "metadata": {},
   "outputs": [],
   "source": [
    "# create a checkFilesInVisit just to get the checkLog_fname\n",
    "from numpy import sort\n",
    "\n",
    "\n",
    "checkLog_fname = CheckFilesInRearmVisit(\"\").checkRes_logFile_name\n",
    "\n",
    "\n",
    "def alreadyCheckedVisit(visitPath, checkLog_fname):\n",
    "    \"\"\"\n",
    "    Check if the log file already exists, which means that the visit was already checked\n",
    "    \"\"\"\n",
    "    checkLogFullFname = os.path.join(visitPath, checkLog_fname)\n",
    "    if os.path.isfile(checkLogFullFname):\n",
    "        print(f\"    Already checked visit\")\n",
    "        return True\n",
    "    return False\n",
    "\n",
    "\n",
    "print(\"Selected ReArm folder: \" + rearm_path)\n",
    "\n",
    "# check the files in the Rearm folder\n",
    "for patient_abspath in participants_abspath_list:\n",
    "    print(\"###############################################\")\n",
    "    # split the path to get the patient name\n",
    "    patient_name = os.path.split(patient_abspath)[-1]\n",
    "    print(patient_name)\n",
    "    visits = [\n",
    "        d\n",
    "        for d in os.listdir(patient_abspath)\n",
    "        if os.path.isdir(os.path.join(patient_abspath, d))\n",
    "    ]\n",
    "    visit_paths = [\n",
    "        os.path.join(patient_abspath, visit)\n",
    "        for visit in visits\n",
    "        if visit.endswith((\"V1\", \"V2\", \"V3\"))\n",
    "    ]\n",
    "    # sort the visits\n",
    "    visit_paths = sort(visit_paths)\n",
    "    # visit_paths = [os.path.join(patient_abspath, visit) for visit in visits if visit.endswith((\"V1\"))]\n",
    "    for visit_path in visit_paths:\n",
    "        visit_name = os.path.split(visit_path)[-1]\n",
    "        print(\" \", visit_name)\n",
    "        if not alreadyCheckedVisit(visit_path, checkLog_fname):\n",
    "            renameFilesInVisit(visit_path)\n",
    "            # check the files in the visit\n",
    "            CheckFilesInRearmVisit(visit_path).run_check()\n",
    "            check_all_files_content(visit_path)\n",
    "            # kinectToMouseTimeCorrection(visit_path)\n",
    "\n",
    "a = 1"
   ]
  }
 ],
 "metadata": {
  "language_info": {
   "name": "python"
  }
 },
 "nbformat": 4,
 "nbformat_minor": 2
}
