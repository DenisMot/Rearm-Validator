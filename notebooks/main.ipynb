{
 "cells": [
  {
   "cell_type": "markdown",
   "metadata": {},
   "source": [
    "# Set the paths "
   ]
  },
  {
   "cell_type": "code",
   "execution_count": null,
   "metadata": {},
   "outputs": [],
   "source": [
    "import os\n",
    "\n",
    "\n",
    "projectPath = os.path.abspath(\"..\")\n",
    "dat_path = os.path.join(projectPath, \"dat\")\n",
    "res_path = os.path.join(projectPath, \"res\")\n",
    "rearm_path = os.path.join(dat_path, \"ReArm.lnk\")\n",
    "#res_info_path = os.path.join(res_path, \"CheckFilesInRearmVisit\")\n"
   ]
  },
  {
   "cell_type": "code",
   "execution_count": null,
   "metadata": {},
   "outputs": [],
   "source": [
    "# set the flag to NOT run the tests\n",
    "doRunTests = False\n",
    "\n",
    "# run the outside notebooks (to get the functions)\n",
    "%run -i \"checkFilesInVisit.ipynb\"\n",
    "%run -i \"kinect-to-mouse-time-correction.ipynb\"\n",
    "\n",
    "\n",
    "# set the visits to check\n",
    "visits = [\n",
    "    \"ReArm_C1P02\",\n",
    "    \"ReArm_C1P023\",\n",
    "]\n",
    "\n",
    "# check the files in the visit\n",
    "for visit in visits:\n",
    "    print(\"###############################################\")\n",
    "    print(\"Checking visit: \", visit)\n",
    "\n",
    "    visit_path = os.path.join(rearm_path, visit)\n",
    "    if not os.path.isdir(visit_path):\n",
    "        print(\"ERROR: pathToData is not a directory: \", visit_path)\n",
    "    else:\n",
    "        visitToCheck = CheckFilesInRearmVisit(visit_path)\n",
    "        kinectToMouseTimeCorrection(visit_path)"
   ]
  }
 ],
 "metadata": {
  "language_info": {
   "name": "python"
  }
 },
 "nbformat": 4,
 "nbformat_minor": 2
}
